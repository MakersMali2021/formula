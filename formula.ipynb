{
 "cells": [
  {
   "cell_type": "markdown",
   "metadata": {},
   "source": [
    "# Kaalisi - Model Breakdown"
   ]
  },
  {
   "cell_type": "markdown",
   "metadata": {},
   "source": [
    "$\\Large Model = {FS(n, P_f)} + {ES(P_e)} + {CS(P_c)} + {YS(GAV, \\mu_{EA}, {P_y}})$"
   ]
  },
  {
   "cell_type": "markdown",
   "metadata": {},
   "source": [
    "## Finance Score\n",
    "\n",
    "$W_{pl}(n) = \\frac{GR_{w_{n}} - GR_{w_{n-1}}}{GR_{w_{n}}}$  \n",
    "\n",
    "$FS(n, {P_f})= \\Bigg\\{ \\begin{array}{cc} {0} & \\mbox{Si} & W_{pl}(n) < 0 \\mbox{ Et } |W_{pl}(n)| \\geq 1  \\\\ {P_f} & \\mbox{Si} & |W_{pl}(n)| \\geq 1 \\\\ W_{pl}(n) * {P_f} & \\mbox{Si} & |W_{pl}(n)| < 1 \\end{array}$\n",
    "\n",
    "$W_{pl}(n)$: Week *n*'s profit loss function. Ratio of differential of week's profit loss.  \n",
    "$GR_{w_{n}}$: Week n's gross revenue  \n",
    "${P_f}$: Finance Weight"
   ]
  },
  {
   "cell_type": "markdown",
   "metadata": {},
   "source": [
    "## Environmental Impact Score\n",
    "\n",
    "$ES({P_e}) = \\frac{Y_N}{Y_N + N_N} * {P_e}$\n",
    "\n",
    "${Y_N}$: Number of Yes.  \n",
    "${N_N}$: Numbers of No.  \n",
    "${P_e}$: Environment's Weight."
   ]
  },
  {
   "cell_type": "markdown",
   "metadata": {},
   "source": [
    "## Covid / Safe Workplace Score\n",
    "\n",
    "$CS({P_c}) = \\frac{Y_N}{Y_N + N_N} * {P_c}$\n",
    "\n",
    "${Y_N}$: Number of Yes.  \n",
    "${N_N}$: Numbers of No.  \n",
    "${P_c}$: Safety Weight."
   ]
  },
  {
   "cell_type": "markdown",
   "metadata": {},
   "source": [
    "## Youthness Score\n",
    "\n",
    "$\\mu_{EA} = \\frac{\\sum^{N}_{i=1}{A_i}}{N}$\n",
    "\n",
    "$YS(GAV, \\mu_{EA}, P_y) = \\Bigg( (1 - |\\frac{GAV - \\mu_{EA}}{GAV}|) * {P_y} \\Bigg) \\mbox{Si} (\\mu_{EA}, GAV) \\in \\vec{V}$\n",
    "\n",
    "\n",
    "${A_i}$: Employees ages, indexed.  \n",
    "$\\vec{V}$: Range of acceptable ages : $\\vec{V}$ = [16,50].  \n",
    "${GAV}$: Good age value.  \n",
    "$\\mu_{EA}$: Mean of employees' age."
   ]
  },
  {
   "cell_type": "markdown",
   "metadata": {},
   "source": [
    "## Kaalisi's Weights\n",
    "\n",
    "$\\Large{P_f} := .45 | {P_e} := .25 | {P_c} := .10 | {P_y} := .20$  "
   ]
  }
 ],
 "metadata": {
  "kernelspec": {
   "display_name": "Python 3 (ipykernel)",
   "language": "python",
   "name": "python3"
  },
  "language_info": {
   "codemirror_mode": {
    "name": "ipython",
    "version": 3
   },
   "file_extension": ".py",
   "mimetype": "text/x-python",
   "name": "python",
   "nbconvert_exporter": "python",
   "pygments_lexer": "ipython3",
   "version": "3.8.10"
  }
 },
 "nbformat": 4,
 "nbformat_minor": 2
}
