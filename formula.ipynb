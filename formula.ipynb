{
 "cells": [
  {
   "cell_type": "markdown",
   "metadata": {},
   "source": [
    "# Kaalisi - Model Breakdown"
   ]
  },
  {
   "cell_type": "markdown",
   "metadata": {},
   "source": [
    "$\\small Model = {{FS}(w, P_f)} + {{ES}(P_e)} + {{CS}(P_c)} + {{YS}(GAV, \\mu_{EA}, {P_y}})$\n",
    "\n",
    "$\\small {P_f} + {P_e} + {P_c} + {P_y}=1$\n",
    "\n",
    "### Les poids de Kaalisi (Constantes)\n",
    "\n",
    "$\\small{P_f} := .45 | {P_e} := .25 | {P_c} := .10 | {P_y} := .20| \\vec{V} := [{15}, {50}] | GAV := 25$"
   ]
  },
  {
   "cell_type": "markdown",
   "metadata": {},
   "source": [
    "## Score de l'état financier\n",
    "\n",
    "$\\large pl(w) = \\frac{gr_{w} - gr_{w-1}}{gr_{w}}$  \n",
    "\n",
    "$\\LARGE FS(w, {P_f})= \\Bigg\\{ \\begin{array}{cc} {0} & \\mbox{Si} & pl(w) < 0 \\mbox{ et } |pl(w)| \\geq 1  \\\\ {P_f} & \\mbox{Si} & |pl(w)| \\geq 1 \\\\ pl(w) * {P_f} & \\mbox{Si} & |pl(w)| < 1 \\end{array}$\n",
    "\n",
    "$pl(w)$: fonction de perte-profit de la semaine. Ratio differentiel de la perte et du profit.  \n",
    "$gr_{w}$: gros revenu de la semaine  \n",
    "${P_f}$: Poids de la finance."
   ]
  },
  {
   "cell_type": "markdown",
   "metadata": {},
   "source": [
    "## Score de l'impact environnemental\n",
    "\n",
    "$\\small EQS = \\frac{\\#Y}{\\#Y + \\#N}$\n",
    "\n",
    "$\\small ES({P_e}) = ( {EQS} * {P_e} )$\n",
    "\n",
    "${\\#Y}$: Nombre de Oui.  \n",
    "${\\#N}$: Nombre de Non.  \n",
    "${EQS}$: Score de la question de l'environnement.  \n",
    "${P_e}$: Poids de l'environnement."
   ]
  },
  {
   "cell_type": "markdown",
   "metadata": {},
   "source": [
    "## Covid / Score de sécurité du lieu  de travail. \n",
    "$\\large CQS = \\frac{\\#Y}{\\#Y + \\#N}$\n",
    "\n",
    "$\\large CS({P_c}) = \\Bigg( {CQS} * {P_c} \\Bigg)$\n",
    "\n",
    "${\\#Y}$: Nombre de Oui.  \n",
    "${\\#N}$: Nombre de Non.  \n",
    "${CQS}$: Score des question de Covid.  \n",
    "${P_c}$: Poids de Securité."
   ]
  },
  {
   "cell_type": "markdown",
   "metadata": {},
   "source": [
    "##  Score d'entreprise jeune.\n",
    "\n",
    "$\\mu_{EA} = \\frac{\\sum^{N}_{i=1}{A_i}}{N}$\n",
    "\n",
    "$\\large YS(GAV, \\mu_{EA}, P_y) = \\Bigg({\\Large(}1 - {\\large|}\\frac{GAV - \\mu_{EA}}{GAV}{\\large|}{\\Large)} * {P_y} \\Bigg) \\mbox{Si} (\\mu_{EA}, GAV) \\in \\overline{V}$\n",
    "\n",
    "\n",
    "${A}$: Sequence d'âge des employés.  \n",
    "$\\overline{V}$: Sequence d'âges valides où $\\sqrt{V_{n}} <= {GAV}$.  \n",
    "${GAV}$: Valeur de l'âge idéal.  \n",
    "$\\mu_{EA}$: Moyenne d'âge des employés de l'entreprise.\n",
    "${P_y}$"
   ]
  },
  {
   "cell_type": "code",
   "execution_count": null,
   "metadata": {},
   "outputs": [],
   "source": []
  }
 ],
 "metadata": {
  "kernelspec": {
   "display_name": "Python 3 (ipykernel)",
   "language": "python",
   "name": "python3"
  },
  "language_info": {
   "codemirror_mode": {
    "name": "ipython",
    "version": 3
   },
   "file_extension": ".py",
   "mimetype": "text/x-python",
   "name": "python",
   "nbconvert_exporter": "python",
   "pygments_lexer": "ipython3",
   "version": "3.8.10"
  }
 },
 "nbformat": 4,
 "nbformat_minor": 2
}
